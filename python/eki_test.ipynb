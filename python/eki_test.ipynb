{
 "cells": [
  {
   "cell_type": "code",
   "execution_count": 6,
   "metadata": {},
   "outputs": [],
   "source": [
    "import numpy as np\n",
    "import matplotlib.pyplot as plt\n",
    "from enkf import EnKF"
   ]
  },
  {
   "cell_type": "markdown",
   "metadata": {},
   "source": [
    "# EKI Testing\n",
    "\n",
    "## Alex Craig"
   ]
  },
  {
   "cell_type": "markdown",
   "metadata": {},
   "source": [
    "When applying the EnKF class to an inverse problem there are a few differences:\n",
    "\n",
    "1. The (augmented) state vector $z$ is defined as:\n",
    "\n",
    "    $$\n",
    "    z = ( u, p ) = ( u, G(u) )\n",
    "    $$\n",
    "\n",
    "    Where $u$ is the state and $G$ is the forward response operator mapping the unknown $u$ to the observation space. Note that $z$ is of dimension $n + m$ where $n$ is the dimension of the state and $m$ is the dimension of the forward model.\n",
    "\n",
    "2. The observation operator $H$ is defined as:\n",
    "\n",
    "    $$\n",
    "    H = ( 0, I )\n",
    "    $$\n",
    "\n",
    "    Where $0$ is a matrix of zeros of dimension $m \\times n$ and $I$ is the identity matrix of dimension $m \\times m$. This operator is used to extract the forward model from the state vector:\n",
    "\n",
    "    $$\n",
    "    H z^k = G(u^k)\n",
    "    $$\n",
    "\n",
    "3. The prediction step in KF uses the forward operator F:\n",
    "\n",
    "    $$\n",
    "    F(z^{k}) = (u^{k}, G(u^{k})) = (u^{k + 1}, p^{k + 1}) = z^{k + 1}\n",
    "    $$\n",
    "\n",
    "4. The observation vector $y$ is defined as:\n",
    "\n",
    "    $$\n",
    "    y^{k + 1} = G(u^{k + 1}) + \\eta = p^{k + 1} + \\eta = H z^{k + 1} + \\eta = H z^k + \\eta\n",
    "    $$\n",
    "\n",
    "    Where $\\eta \\sim \\mathcal{N}(0, R)$ is the observation noise.\n",
    "\n",
    "    **Note**: Because $y^{k + 1} = H z^k + \\eta$ the observation is the same for every iteration."
   ]
  },
  {
   "cell_type": "code",
   "execution_count": 7,
   "metadata": {},
   "outputs": [],
   "source": [
    "# Define random seed\n",
    "seed = 0\n",
    "np.random.seed(seed)\n",
    "\n",
    "# Define parameters\n",
    "k = 100  # Number of time steps\n",
    "sigma_state = 0.05  # State noise level\n",
    "sigma_obs = 0.1  # Observation noise level\n",
    "\n",
    "# State and observation dimensions\n",
    "n = 2\n",
    "m = 2\n",
    "z_dim = n + m  # Total dimension of the augmented state vector z\n",
    "\n",
    "# Define memory\n",
    "z = np.zeros((z_dim, k))  # Augmented state vector\n",
    "y = np.zeros((m, k))  # Observations\n",
    "\n",
    "# Define the forward response operator G (e.g., a linear model for simplicity)\n",
    "G = lambda u: 2.0 * u\n",
    "\n",
    "# Define the augmented state propagation function\n",
    "def F(z):\n",
    "    u = z[:n] # Get the first n elements of z\n",
    "    p = G(u) # Apply the forward operator\n",
    "    \n",
    "    z_next = np.concatenate([u, p])\n",
    "    return z_next\n",
    "\n",
    "# Observation operator H (extracts the model p from z)\n",
    "H = np.concatenate([np.zeros((m, n)), np.eye(m)], axis=1)\n",
    "\n",
    "# Initial state and ensemble members\n",
    "u0 = np.array([1, 0])\n",
    "p0 = G(u0)\n",
    "z0 = np.concatenate([u0, p0])\n",
    "\n",
    "# Set initial state and observation\n",
    "z[:, 0] = z0\n",
    "y[:, 0] = H @ z0"
   ]
  },
  {
   "cell_type": "code",
   "execution_count": 8,
   "metadata": {},
   "outputs": [],
   "source": [
    "# Set up the true state and observations\n",
    "# For each time step\n",
    "for i in range (k - 1):\n",
    "    # Update state\n",
    "    z[:,i+1] = F(z[:,i]) + sigma_state * np.random.normal(z_dim)\n",
    "    \n",
    "    # Update observation\n",
    "    y[:,i+1] = H @ z[:,i+1] + sigma_obs * np.random.normal(z_dim)"
   ]
  },
  {
   "cell_type": "code",
   "execution_count": 9,
   "metadata": {},
   "outputs": [
    {
     "name": "stdout",
     "output_type": "stream",
     "text": [
      "2\n"
     ]
    }
   ],
   "source": [
    "\n",
    "# Set up inputs for EnFK\n",
    "# Qsqrt = np.eye(z_dim) * sigma_state\n",
    "Qsqrt = None\n",
    "Rsqrt = np.eye(m) * sigma_obs\n",
    "n_members = 10\n",
    "\n",
    "# Initialize the EnKF\n",
    "EnKF = EnKF(F, H, Qsqrt, Rsqrt, seed, n_members=n_members, initialization=None)\n",
    "\n",
    "print(EnKF.n)"
   ]
  },
  {
   "cell_type": "code",
   "execution_count": 10,
   "metadata": {},
   "outputs": [
    {
     "ename": "ValueError",
     "evalue": "could not broadcast input array from shape (4,) into shape (2,)",
     "output_type": "error",
     "traceback": [
      "\u001b[0;31m---------------------------------------------------------------------------\u001b[0m",
      "\u001b[0;31mValueError\u001b[0m                                Traceback (most recent call last)",
      "Cell \u001b[0;32mIn[10], line 10\u001b[0m\n\u001b[1;32m      7\u001b[0m obs \u001b[38;5;241m=\u001b[39m y[:,i]\n\u001b[1;32m      9\u001b[0m \u001b[38;5;66;03m# Advance the EnKF\u001b[39;00m\n\u001b[0;32m---> 10\u001b[0m \u001b[43mEnKF\u001b[49m\u001b[38;5;241;43m.\u001b[39;49m\u001b[43madvance_ensemble\u001b[49m\u001b[43m(\u001b[49m\u001b[43mobs\u001b[49m\u001b[43m)\u001b[49m\n\u001b[1;32m     12\u001b[0m \u001b[38;5;66;03m# Get the predicted state\u001b[39;00m\n\u001b[1;32m     13\u001b[0m z_pred[:,i] \u001b[38;5;241m=\u001b[39m EnKF\u001b[38;5;241m.\u001b[39mmean\n",
      "File \u001b[0;32m~/projects/python-projects/math-76/python/enkf.py:50\u001b[0m, in \u001b[0;36mEnKF.advance_ensemble\u001b[0;34m(self, v)\u001b[0m\n\u001b[1;32m     47\u001b[0m \u001b[38;5;250m\u001b[39m\u001b[38;5;124;03m\"\"\"Update the entire model based on the new observation y.\"\"\"\u001b[39;00m\n\u001b[1;32m     49\u001b[0m \u001b[38;5;66;03m# Execute propagation step\u001b[39;00m\n\u001b[0;32m---> 50\u001b[0m \u001b[38;5;28;43mself\u001b[39;49m\u001b[38;5;241;43m.\u001b[39;49m\u001b[43mpropagation_step\u001b[49m\u001b[43m(\u001b[49m\u001b[43m)\u001b[49m\n\u001b[1;32m     52\u001b[0m \u001b[38;5;66;03m# Execute analysis step\u001b[39;00m\n\u001b[1;32m     53\u001b[0m \u001b[38;5;28mself\u001b[39m\u001b[38;5;241m.\u001b[39manalysis_step(v)\n",
      "File \u001b[0;32m~/projects/python-projects/math-76/python/enkf.py:73\u001b[0m, in \u001b[0;36mEnKF.propagation_step\u001b[0;34m(self)\u001b[0m\n\u001b[1;32m     68\u001b[0m         \u001b[38;5;28mself\u001b[39m\u001b[38;5;241m.\u001b[39mmembers_pred[:, j] \u001b[38;5;241m=\u001b[39m \u001b[38;5;28mself\u001b[39m\u001b[38;5;241m.\u001b[39mF(\u001b[38;5;28mself\u001b[39m\u001b[38;5;241m.\u001b[39mmembers[:, j]) \u001b[38;5;241m+\u001b[39m (\n\u001b[1;32m     69\u001b[0m             \u001b[38;5;28mself\u001b[39m\u001b[38;5;241m.\u001b[39mQsqrt \u001b[38;5;241m@\u001b[39m np\u001b[38;5;241m.\u001b[39mrandom\u001b[38;5;241m.\u001b[39mnormal(size\u001b[38;5;241m=\u001b[39m\u001b[38;5;28mself\u001b[39m\u001b[38;5;241m.\u001b[39mn)\n\u001b[1;32m     70\u001b[0m         )\n\u001b[1;32m     71\u001b[0m     \u001b[38;5;28;01melse\u001b[39;00m:\n\u001b[1;32m     72\u001b[0m         \u001b[38;5;66;03m# Without state noise\u001b[39;00m\n\u001b[0;32m---> 73\u001b[0m         \u001b[38;5;28;43mself\u001b[39;49m\u001b[38;5;241;43m.\u001b[39;49m\u001b[43mmembers_pred\u001b[49m\u001b[43m[\u001b[49m\u001b[43m:\u001b[49m\u001b[43m,\u001b[49m\u001b[43m \u001b[49m\u001b[43mj\u001b[49m\u001b[43m]\u001b[49m \u001b[38;5;241m=\u001b[39m \u001b[38;5;28mself\u001b[39m\u001b[38;5;241m.\u001b[39mF(\u001b[38;5;28mself\u001b[39m\u001b[38;5;241m.\u001b[39mmembers[:, j])\n\u001b[1;32m     75\u001b[0m \u001b[38;5;66;03m# Get the mean prediction of the forecasted ensemble\u001b[39;00m\n\u001b[1;32m     76\u001b[0m \u001b[38;5;66;03m# Note: taking the average of each state entry across all members\u001b[39;00m\n\u001b[1;32m     77\u001b[0m \u001b[38;5;28mself\u001b[39m\u001b[38;5;241m.\u001b[39mmean_pred \u001b[38;5;241m=\u001b[39m np\u001b[38;5;241m.\u001b[39mmean(\u001b[38;5;28mself\u001b[39m\u001b[38;5;241m.\u001b[39mmembers_pred, axis\u001b[38;5;241m=\u001b[39m\u001b[38;5;241m1\u001b[39m)\n",
      "\u001b[0;31mValueError\u001b[0m: could not broadcast input array from shape (4,) into shape (2,)"
     ]
    }
   ],
   "source": [
    "# Define memory for the predicted state\n",
    "z_pred = np.zeros((z_dim, k))\n",
    "\n",
    "# For each time step\n",
    "for i in range (k):\n",
    "    # Get the current observation\n",
    "    obs = y[:,i]\n",
    "    \n",
    "    # Advance the EnKF\n",
    "    EnKF.advance_ensemble(obs)\n",
    "     \n",
    "    # Get the predicted state\n",
    "    z_pred[:,i] = EnKF.mean"
   ]
  },
  {
   "cell_type": "code",
   "execution_count": null,
   "metadata": {},
   "outputs": [],
   "source": [
    "# Plotting results\n",
    "plt.figure(figsize=(10, 5))\n",
    "plt.subplot(1, 2, 1)\n",
    "plt.title('True State')\n",
    "plt.plot(true_state[0, :], true_state[1, :], 'bo-', label='True State u')\n",
    "plt.plot(true_state[2, :], true_state[3, :], 'go-', label='True State p')\n",
    "plt.legend()\n",
    "plt.grid(True)\n",
    "\n",
    "plt.subplot(1, 2, 2)\n",
    "plt.title('Predicted State')\n",
    "plt.plot(predicted_states[0, :], predicted_states[1, :], 'ro-', label='Predicted State u')\n",
    "plt.plot(predicted_states[2, :], predicted_states[3, :], 'mo-', label='Predicted State p')\n",
    "plt.legend()\n",
    "plt.grid(True)\n",
    "\n",
    "plt.show()"
   ]
  }
 ],
 "metadata": {
  "kernelspec": {
   "display_name": "Python 3",
   "language": "python",
   "name": "python3"
  },
  "language_info": {
   "codemirror_mode": {
    "name": "ipython",
    "version": 3
   },
   "file_extension": ".py",
   "mimetype": "text/x-python",
   "name": "python",
   "nbconvert_exporter": "python",
   "pygments_lexer": "ipython3",
   "version": "3.11.6"
  }
 },
 "nbformat": 4,
 "nbformat_minor": 2
}
